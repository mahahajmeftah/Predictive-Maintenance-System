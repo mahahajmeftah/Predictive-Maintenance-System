{
 "cells": [
  {
   "cell_type": "markdown",
   "metadata": {},
   "source": [
    "# Prediction"
   ]
  },
  {
   "cell_type": "code",
   "execution_count": 1,
   "metadata": {},
   "outputs": [],
   "source": [
    "import pickle\n"
   ]
  },
  {
   "cell_type": "code",
   "execution_count": 2,
   "metadata": {},
   "outputs": [
    {
     "data": {
      "text/plain": [
       "'/local/home/hadjmefm/Predictive-Maintenance-System/notebooks'"
      ]
     },
     "execution_count": 2,
     "metadata": {},
     "output_type": "execute_result"
    }
   ],
   "source": [
    "%pwd"
   ]
  },
  {
   "cell_type": "markdown",
   "metadata": {},
   "source": [
    "### Load the model"
   ]
  },
  {
   "cell_type": "code",
   "execution_count": 3,
   "metadata": {},
   "outputs": [],
   "source": [
    "model_path =\"/local/home/hadjmefm/Predictive-Maintenance-System/artifacts/model.pkl\"\n",
    "with open(model_path, 'rb') as f:\n",
    "        model = pickle.load(f)"
   ]
  },
  {
   "cell_type": "markdown",
   "metadata": {},
   "source": [
    "### Load Scaler "
   ]
  },
  {
   "cell_type": "code",
   "execution_count": 4,
   "metadata": {},
   "outputs": [],
   "source": [
    "scaler_path = \"/local/home/hadjmefm/Predictive-Maintenance-System/artifacts/scaler.pkl\"\n",
    "with open(scaler_path,'rb') as f:\n",
    "    scaler = pickle.load(f)"
   ]
  },
  {
   "cell_type": "markdown",
   "metadata": {},
   "source": [
    "### scaling"
   ]
  },
  {
   "cell_type": "code",
   "execution_count": 5,
   "metadata": {},
   "outputs": [],
   "source": [
    "#{\n",
    "#   \"type\": \"Low\",\n",
    "#   \"rpm\": 1412,\n",
    "#   \"torque\": 52.3,\n",
    "#   \"tool_wear\": 218,\n",
    "#   \"air_temp\": 25.15,\n",
    "#   \"process_temp\": 34.95\n",
    "#}\n",
    "type_value= \"Low\"\n",
    "rpm =1412\n",
    "torque = 52.3\n",
    "tool_wear = 218\n",
    "air_temp = 25.15\n",
    "process_temp = 34.95"
   ]
  },
  {
   "cell_type": "code",
   "execution_count": 6,
   "metadata": {},
   "outputs": [],
   "source": [
    " # type preprocessing\n",
    "if type_value == 'Low':\n",
    "        type_value = int(0)\n",
    "elif type_value == 'Medium':    \n",
    "        type_value = int(1)\n",
    "elif type_value == 'High':    \n",
    "        type_value = int(2)\n",
    "\n",
    "type_value = float(type_value)    "
   ]
  },
  {
   "cell_type": "code",
   "execution_count": 7,
   "metadata": {},
   "outputs": [
    {
     "name": "stdout",
     "output_type": "stream",
     "text": [
      "0.14202561117578583 0.6662087912087912 0.8616600790513833 0.3260869565217357 0.29629629629629406\n"
     ]
    },
    {
     "name": "stderr",
     "output_type": "stream",
     "text": [
      "/local/home/hadjmefm/Predictive-Maintenance-System/venv/lib/python3.10/site-packages/sklearn/base.py:493: UserWarning: X does not have valid feature names, but MinMaxScaler was fitted with feature names\n",
      "  warnings.warn(\n"
     ]
    }
   ],
   "source": [
    "scaled_input = scaler.transform([[rpm, torque, tool_wear, air_temp, process_temp]])\n",
    "rpm, torque, tool_wear, air_temp, process_temp = scaled_input[0]\n",
    "print(rpm, torque, tool_wear, air_temp, process_temp)"
   ]
  },
  {
   "cell_type": "markdown",
   "metadata": {},
   "source": [
    "### Prediction"
   ]
  },
  {
   "cell_type": "code",
   "execution_count": 9,
   "metadata": {},
   "outputs": [
    {
     "name": "stdout",
     "output_type": "stream",
     "text": [
      "[1]\n",
      "Machine Failure\n"
     ]
    },
    {
     "name": "stderr",
     "output_type": "stream",
     "text": [
      "/local/home/hadjmefm/Predictive-Maintenance-System/venv/lib/python3.10/site-packages/sklearn/base.py:493: UserWarning: X does not have valid feature names, but RandomForestClassifier was fitted with feature names\n",
      "  warnings.warn(\n"
     ]
    }
   ],
   "source": [
    "prediction = model.predict([[type_value, rpm, torque, tool_wear, air_temp, process_temp]])\n",
    "print(prediction)\n",
    "if prediction[0] == 0:\n",
    "        result = 'No Failure'\n",
    "elif prediction[0] == 1:\n",
    "        result = 'Machine Failure'            \n",
    "print(result)"
   ]
  }
 ],
 "metadata": {
  "kernelspec": {
   "display_name": "venv",
   "language": "python",
   "name": "python3"
  },
  "language_info": {
   "codemirror_mode": {
    "name": "ipython",
    "version": 3
   },
   "file_extension": ".py",
   "mimetype": "text/x-python",
   "name": "python",
   "nbconvert_exporter": "python",
   "pygments_lexer": "ipython3",
   "version": "3.10.12"
  }
 },
 "nbformat": 4,
 "nbformat_minor": 2
}
