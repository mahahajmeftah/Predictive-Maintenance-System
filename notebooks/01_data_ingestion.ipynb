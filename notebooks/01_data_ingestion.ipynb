{
 "cells": [
  {
   "cell_type": "code",
   "execution_count": 1,
   "metadata": {},
   "outputs": [],
   "source": [
    "import os \n",
    "import sys\n",
    "import pandas as pd\n",
    "from Predictive_Maintenance import logger"
   ]
  },
  {
   "cell_type": "markdown",
   "metadata": {},
   "source": []
  },
  {
   "cell_type": "code",
   "execution_count": 2,
   "metadata": {},
   "outputs": [
    {
     "data": {
      "text/plain": [
       "'/local/home/hadjmefm/Predictive-Maintenance-System/notebooks'"
      ]
     },
     "execution_count": 2,
     "metadata": {},
     "output_type": "execute_result"
    }
   ],
   "source": [
    "%pwd"
   ]
  },
  {
   "cell_type": "code",
   "execution_count": null,
   "metadata": {},
   "outputs": [],
   "source": []
  },
  {
   "cell_type": "code",
   "execution_count": 3,
   "metadata": {},
   "outputs": [],
   "source": [
    "from dataclasses import dataclass\n",
    "@dataclass(frozen=True)\n",
    "class DataIngestionConfig:\n",
    "    raw_data_path:str = os.path.join(\"..\",\"artifacts\",\"raw.csv\")"
   ]
  },
  {
   "cell_type": "code",
   "execution_count": 4,
   "metadata": {},
   "outputs": [],
   "source": [
    "from Predictive_Maintenance.utils.utils import create_directories"
   ]
  },
  {
   "cell_type": "code",
   "execution_count": 5,
   "metadata": {},
   "outputs": [],
   "source": [
    "class DataIngestion:\n",
    "    def __init__(self,config:DataIngestionConfig):\n",
    "        self.config = config\n",
    "\n",
    "    def initiat_data_ingestion(self):\n",
    "        data = pd.read_csv(\"./data/raw.csv\")\n",
    "        logger.info(\"data read complete\")\n",
    "\n",
    "        create_directories([self.config.raw_data_path])\n",
    "\n",
    "        data.to_csv(os.path.join(self.config.raw_data_path,\"raw.csv\"),index=False)\n",
    "        logger.info(\"Saved the raw dataset in artifacts directory\")\n",
    "\n",
    "            #print(data.head())\n",
    "\n",
    "\n",
    "        return self.config.raw_data_path\n",
    "\n"
   ]
  },
  {
   "cell_type": "code",
   "execution_count": 6,
   "metadata": {},
   "outputs": [
    {
     "name": "stdout",
     "output_type": "stream",
     "text": [
      "[2024-07-16 09:51:51,768: INFO: 293296375: data read complete]\n",
      "[2024-07-16 09:51:51,769: INFO: utils: created directory at: artifacts/raw.csv]\n"
     ]
    },
    {
     "name": "stdout",
     "output_type": "stream",
     "text": [
      "[2024-07-16 09:51:51,802: INFO: 293296375: Saved the raw dataset in artifacts directory]\n"
     ]
    }
   ],
   "source": [
    "try:\n",
    "    config = DataIngestionConfig()\n",
    "    data_ingestion = DataIngestion(config)\n",
    "    data_ingestion.initiat_data_ingestion()\n",
    "except Exception as e:\n",
    "    raise e"
   ]
  }
 ],
 "metadata": {
  "kernelspec": {
   "display_name": "venv",
   "language": "python",
   "name": "python3"
  },
  "language_info": {
   "codemirror_mode": {
    "name": "ipython",
    "version": 3
   },
   "file_extension": ".py",
   "mimetype": "text/x-python",
   "name": "python",
   "nbconvert_exporter": "python",
   "pygments_lexer": "ipython3",
   "version": "3.10.12"
  }
 },
 "nbformat": 4,
 "nbformat_minor": 2
}
